{
 "cells": [
  {
   "cell_type": "markdown",
   "metadata": {},
   "source": [
    "# Groupes de passagers sur le Titanic\n",
    "\n",
    "L'objectif de ce TD est d'explorer et d'identifier les grandes catégories de passagers présents à bord du Titanic.\n",
    "\n",
    "Comme souvent en partitionnement, les groupes seront formés arbitrairement, et il est possible de réaliser une analyse sur ces groupes pour identifier des tendances.  \n",
    "Il est également envisageable de viser à reconstituer des groupes pour lesquels la vérité de terrain est connue (par exemple la classe, la nationalité, etc.).\n",
    "\n",
    "Ce TD sera basé en grande partie sur la (re-)découverte des classes de passagers."
   ]
  },
  {
   "cell_type": "markdown",
   "metadata": {},
   "source": [
    "## Imports"
   ]
  },
  {
   "cell_type": "code",
   "execution_count": 2,
   "metadata": {
    "tags": []
   },
   "outputs": [],
   "source": [
    "import pandas as pd\n",
    "import numpy as np\n",
    "import seaborn as sns\n",
    "import matplotlib.pyplot as plt\n",
    "from sklearn import set_config\n",
    "\n",
    "set_config(transform_output=\"pandas\")  # requiert pandas>=1.2"
   ]
  },
  {
   "cell_type": "code",
   "execution_count": 3,
   "metadata": {
    "tags": []
   },
   "outputs": [],
   "source": [
    "passengers = pd.read_csv(\"passengers.csv\", parse_dates=[\"birthday\"])"
   ]
  },
  {
   "cell_type": "markdown",
   "metadata": {},
   "source": [
    "### Génération du nombre de passagers par billet et du prix unitaire"
   ]
  },
  {
   "cell_type": "code",
   "execution_count": 4,
   "metadata": {
    "tags": []
   },
   "outputs": [
    {
     "data": {
      "text/html": [
       "<div>\n",
       "<style scoped>\n",
       "    .dataframe tbody tr th:only-of-type {\n",
       "        vertical-align: middle;\n",
       "    }\n",
       "\n",
       "    .dataframe tbody tr th {\n",
       "        vertical-align: top;\n",
       "    }\n",
       "\n",
       "    .dataframe thead th {\n",
       "        text-align: right;\n",
       "    }\n",
       "</style>\n",
       "<table border=\"1\" class=\"dataframe\">\n",
       "  <thead>\n",
       "    <tr style=\"text-align: right;\">\n",
       "      <th></th>\n",
       "      <th>class</th>\n",
       "      <th>survived</th>\n",
       "      <th>title</th>\n",
       "      <th>surname</th>\n",
       "      <th>first name</th>\n",
       "      <th>sex</th>\n",
       "      <th>age</th>\n",
       "      <th>birthday</th>\n",
       "      <th>nationality</th>\n",
       "      <th>sibsp</th>\n",
       "      <th>parch</th>\n",
       "      <th>ticket</th>\n",
       "      <th>fare</th>\n",
       "      <th>cabin</th>\n",
       "      <th>boarded</th>\n",
       "      <th>lifeboat</th>\n",
       "      <th>body</th>\n",
       "      <th>home.dest</th>\n",
       "      <th>co-travelers</th>\n",
       "      <th>unit fare</th>\n",
       "    </tr>\n",
       "  </thead>\n",
       "  <tbody>\n",
       "    <tr>\n",
       "      <th>0</th>\n",
       "      <td>1</td>\n",
       "      <td>1</td>\n",
       "      <td>Miss</td>\n",
       "      <td>Cherry</td>\n",
       "      <td>Gladys</td>\n",
       "      <td>female</td>\n",
       "      <td>30.0</td>\n",
       "      <td>1881-08-27</td>\n",
       "      <td>English</td>\n",
       "      <td>0</td>\n",
       "      <td>0</td>\n",
       "      <td>110152</td>\n",
       "      <td>86.500</td>\n",
       "      <td>B77</td>\n",
       "      <td>S</td>\n",
       "      <td>8</td>\n",
       "      <td>NaN</td>\n",
       "      <td>London, England</td>\n",
       "      <td>3</td>\n",
       "      <td>28.833333</td>\n",
       "    </tr>\n",
       "    <tr>\n",
       "      <th>1</th>\n",
       "      <td>1</td>\n",
       "      <td>1</td>\n",
       "      <td>Miss</td>\n",
       "      <td>Maioni</td>\n",
       "      <td>Roberta</td>\n",
       "      <td>female</td>\n",
       "      <td>20.0</td>\n",
       "      <td>NaT</td>\n",
       "      <td>English</td>\n",
       "      <td>0</td>\n",
       "      <td>0</td>\n",
       "      <td>110152</td>\n",
       "      <td>86.500</td>\n",
       "      <td>B79</td>\n",
       "      <td>S</td>\n",
       "      <td>8</td>\n",
       "      <td>NaN</td>\n",
       "      <td>NaN</td>\n",
       "      <td>3</td>\n",
       "      <td>28.833333</td>\n",
       "    </tr>\n",
       "    <tr>\n",
       "      <th>2</th>\n",
       "      <td>1</td>\n",
       "      <td>1</td>\n",
       "      <td>Countess</td>\n",
       "      <td>Rothes (of)</td>\n",
       "      <td>(Lucy Noel Martha Dyer-Edwards)</td>\n",
       "      <td>female</td>\n",
       "      <td>33.0</td>\n",
       "      <td>1878-12-25</td>\n",
       "      <td>Scottish</td>\n",
       "      <td>0</td>\n",
       "      <td>0</td>\n",
       "      <td>110152</td>\n",
       "      <td>86.500</td>\n",
       "      <td>B77</td>\n",
       "      <td>S</td>\n",
       "      <td>8</td>\n",
       "      <td>NaN</td>\n",
       "      <td>London  Vancouver, BC</td>\n",
       "      <td>3</td>\n",
       "      <td>28.833333</td>\n",
       "    </tr>\n",
       "    <tr>\n",
       "      <th>3</th>\n",
       "      <td>1</td>\n",
       "      <td>0</td>\n",
       "      <td>Mr.</td>\n",
       "      <td>Taussig</td>\n",
       "      <td>Emil</td>\n",
       "      <td>male</td>\n",
       "      <td>52.0</td>\n",
       "      <td>NaT</td>\n",
       "      <td>American</td>\n",
       "      <td>1</td>\n",
       "      <td>1</td>\n",
       "      <td>110413</td>\n",
       "      <td>79.650</td>\n",
       "      <td>E67</td>\n",
       "      <td>S</td>\n",
       "      <td>NaN</td>\n",
       "      <td>NaN</td>\n",
       "      <td>New York, NY</td>\n",
       "      <td>3</td>\n",
       "      <td>26.550000</td>\n",
       "    </tr>\n",
       "    <tr>\n",
       "      <th>4</th>\n",
       "      <td>1</td>\n",
       "      <td>1</td>\n",
       "      <td>Mrs.</td>\n",
       "      <td>Taussig</td>\n",
       "      <td>Emil (Tillie Mandelbaum)</td>\n",
       "      <td>female</td>\n",
       "      <td>39.0</td>\n",
       "      <td>1872-12-18</td>\n",
       "      <td>American</td>\n",
       "      <td>1</td>\n",
       "      <td>1</td>\n",
       "      <td>110413</td>\n",
       "      <td>79.650</td>\n",
       "      <td>E67</td>\n",
       "      <td>S</td>\n",
       "      <td>8</td>\n",
       "      <td>NaN</td>\n",
       "      <td>New York, NY</td>\n",
       "      <td>3</td>\n",
       "      <td>26.550000</td>\n",
       "    </tr>\n",
       "    <tr>\n",
       "      <th>...</th>\n",
       "      <td>...</td>\n",
       "      <td>...</td>\n",
       "      <td>...</td>\n",
       "      <td>...</td>\n",
       "      <td>...</td>\n",
       "      <td>...</td>\n",
       "      <td>...</td>\n",
       "      <td>...</td>\n",
       "      <td>...</td>\n",
       "      <td>...</td>\n",
       "      <td>...</td>\n",
       "      <td>...</td>\n",
       "      <td>...</td>\n",
       "      <td>...</td>\n",
       "      <td>...</td>\n",
       "      <td>...</td>\n",
       "      <td>...</td>\n",
       "      <td>...</td>\n",
       "      <td>...</td>\n",
       "      <td>...</td>\n",
       "    </tr>\n",
       "    <tr>\n",
       "      <th>1312</th>\n",
       "      <td>3</td>\n",
       "      <td>0</td>\n",
       "      <td>Mrs.</td>\n",
       "      <td>Ford</td>\n",
       "      <td>Edward (Margaret Ann Watson)</td>\n",
       "      <td>female</td>\n",
       "      <td>48.0</td>\n",
       "      <td>NaT</td>\n",
       "      <td>English</td>\n",
       "      <td>1</td>\n",
       "      <td>3</td>\n",
       "      <td>W/C 6608</td>\n",
       "      <td>34.375</td>\n",
       "      <td>NaN</td>\n",
       "      <td>S</td>\n",
       "      <td>NaN</td>\n",
       "      <td>NaN</td>\n",
       "      <td>Rotherfield, Sussex, England Essex Co, MA</td>\n",
       "      <td>5</td>\n",
       "      <td>6.875000</td>\n",
       "    </tr>\n",
       "    <tr>\n",
       "      <th>1313</th>\n",
       "      <td>3</td>\n",
       "      <td>0</td>\n",
       "      <td>Mr.</td>\n",
       "      <td>Ford</td>\n",
       "      <td>Edward Watson</td>\n",
       "      <td>male</td>\n",
       "      <td>18.0</td>\n",
       "      <td>NaT</td>\n",
       "      <td>English</td>\n",
       "      <td>2</td>\n",
       "      <td>2</td>\n",
       "      <td>W/C 6608</td>\n",
       "      <td>34.375</td>\n",
       "      <td>NaN</td>\n",
       "      <td>S</td>\n",
       "      <td>NaN</td>\n",
       "      <td>NaN</td>\n",
       "      <td>Rotherfield, Sussex, England Essex Co, MA</td>\n",
       "      <td>5</td>\n",
       "      <td>6.875000</td>\n",
       "    </tr>\n",
       "    <tr>\n",
       "      <th>1314</th>\n",
       "      <td>3</td>\n",
       "      <td>0</td>\n",
       "      <td>Miss</td>\n",
       "      <td>Ford</td>\n",
       "      <td>Robina Maggie \"Ruby\"</td>\n",
       "      <td>female</td>\n",
       "      <td>7.0</td>\n",
       "      <td>1904-04-25</td>\n",
       "      <td>English</td>\n",
       "      <td>2</td>\n",
       "      <td>2</td>\n",
       "      <td>W/C 6608</td>\n",
       "      <td>34.375</td>\n",
       "      <td>NaN</td>\n",
       "      <td>S</td>\n",
       "      <td>NaN</td>\n",
       "      <td>NaN</td>\n",
       "      <td>Rotherfield, Sussex, England Essex Co, MA</td>\n",
       "      <td>5</td>\n",
       "      <td>6.875000</td>\n",
       "    </tr>\n",
       "    <tr>\n",
       "      <th>1315</th>\n",
       "      <td>3</td>\n",
       "      <td>0</td>\n",
       "      <td>Mr.</td>\n",
       "      <td>Ford</td>\n",
       "      <td>William Neal</td>\n",
       "      <td>male</td>\n",
       "      <td>16.0</td>\n",
       "      <td>NaT</td>\n",
       "      <td>English</td>\n",
       "      <td>1</td>\n",
       "      <td>3</td>\n",
       "      <td>W/C 6608</td>\n",
       "      <td>34.375</td>\n",
       "      <td>NaN</td>\n",
       "      <td>S</td>\n",
       "      <td>NaN</td>\n",
       "      <td>NaN</td>\n",
       "      <td>Rotherfield, Sussex, England Essex Co, MA</td>\n",
       "      <td>5</td>\n",
       "      <td>6.875000</td>\n",
       "    </tr>\n",
       "    <tr>\n",
       "      <th>1316</th>\n",
       "      <td>3</td>\n",
       "      <td>0</td>\n",
       "      <td>Miss</td>\n",
       "      <td>Harknett</td>\n",
       "      <td>Alice Phoebe</td>\n",
       "      <td>female</td>\n",
       "      <td>21.0</td>\n",
       "      <td>1890-10-15</td>\n",
       "      <td>English</td>\n",
       "      <td>0</td>\n",
       "      <td>0</td>\n",
       "      <td>W/C 6609</td>\n",
       "      <td>7.550</td>\n",
       "      <td>NaN</td>\n",
       "      <td>S</td>\n",
       "      <td>NaN</td>\n",
       "      <td>NaN</td>\n",
       "      <td>NaN</td>\n",
       "      <td>1</td>\n",
       "      <td>7.550000</td>\n",
       "    </tr>\n",
       "  </tbody>\n",
       "</table>\n",
       "<p>1317 rows × 20 columns</p>\n",
       "</div>"
      ],
      "text/plain": [
       "      class  survived     title      surname                       first name  \\\n",
       "0         1         1      Miss       Cherry                           Gladys   \n",
       "1         1         1      Miss       Maioni                          Roberta   \n",
       "2         1         1  Countess  Rothes (of)  (Lucy Noel Martha Dyer-Edwards)   \n",
       "3         1         0       Mr.      Taussig                             Emil   \n",
       "4         1         1      Mrs.      Taussig         Emil (Tillie Mandelbaum)   \n",
       "...     ...       ...       ...          ...                              ...   \n",
       "1312      3         0      Mrs.         Ford     Edward (Margaret Ann Watson)   \n",
       "1313      3         0       Mr.         Ford                    Edward Watson   \n",
       "1314      3         0      Miss         Ford             Robina Maggie \"Ruby\"   \n",
       "1315      3         0       Mr.         Ford                     William Neal   \n",
       "1316      3         0      Miss     Harknett                     Alice Phoebe   \n",
       "\n",
       "         sex   age   birthday nationality  sibsp  parch    ticket    fare  \\\n",
       "0     female  30.0 1881-08-27     English      0      0    110152  86.500   \n",
       "1     female  20.0        NaT     English      0      0    110152  86.500   \n",
       "2     female  33.0 1878-12-25    Scottish      0      0    110152  86.500   \n",
       "3       male  52.0        NaT    American      1      1    110413  79.650   \n",
       "4     female  39.0 1872-12-18    American      1      1    110413  79.650   \n",
       "...      ...   ...        ...         ...    ...    ...       ...     ...   \n",
       "1312  female  48.0        NaT     English      1      3  W/C 6608  34.375   \n",
       "1313    male  18.0        NaT     English      2      2  W/C 6608  34.375   \n",
       "1314  female   7.0 1904-04-25     English      2      2  W/C 6608  34.375   \n",
       "1315    male  16.0        NaT     English      1      3  W/C 6608  34.375   \n",
       "1316  female  21.0 1890-10-15     English      0      0  W/C 6609   7.550   \n",
       "\n",
       "     cabin boarded lifeboat  body                                  home.dest  \\\n",
       "0      B77       S        8   NaN                            London, England   \n",
       "1      B79       S        8   NaN                                        NaN   \n",
       "2      B77       S        8   NaN                      London  Vancouver, BC   \n",
       "3      E67       S      NaN   NaN                               New York, NY   \n",
       "4      E67       S        8   NaN                               New York, NY   \n",
       "...    ...     ...      ...   ...                                        ...   \n",
       "1312   NaN       S      NaN   NaN  Rotherfield, Sussex, England Essex Co, MA   \n",
       "1313   NaN       S      NaN   NaN  Rotherfield, Sussex, England Essex Co, MA   \n",
       "1314   NaN       S      NaN   NaN  Rotherfield, Sussex, England Essex Co, MA   \n",
       "1315   NaN       S      NaN   NaN  Rotherfield, Sussex, England Essex Co, MA   \n",
       "1316   NaN       S      NaN   NaN                                        NaN   \n",
       "\n",
       "      co-travelers  unit fare  \n",
       "0                3  28.833333  \n",
       "1                3  28.833333  \n",
       "2                3  28.833333  \n",
       "3                3  26.550000  \n",
       "4                3  26.550000  \n",
       "...            ...        ...  \n",
       "1312             5   6.875000  \n",
       "1313             5   6.875000  \n",
       "1314             5   6.875000  \n",
       "1315             5   6.875000  \n",
       "1316             1   7.550000  \n",
       "\n",
       "[1317 rows x 20 columns]"
      ]
     },
     "execution_count": 4,
     "metadata": {},
     "output_type": "execute_result"
    }
   ],
   "source": [
    "cnts = passengers.groupby([\"ticket\", \"fare\"])[\"survived\"].count().rename(\"co-travelers\").reset_index()\n",
    "passengers = passengers.merge(cnts, on=[\"ticket\", \"fare\"])\n",
    "passengers[\"unit fare\"] = passengers[\"fare\"] / passengers[\"co-travelers\"]\n",
    "passengers"
   ]
  },
  {
   "cell_type": "markdown",
   "metadata": {},
   "source": [
    "**Q1.1** Visualiser les variations des politiques tarifaires, globalement puis par classe.  \n",
    "Suggestion : utiliser la fonction [`relplot`](https://seaborn.pydata.org/generated/seaborn.relplot.html) de la bibliothèque seaborn, avec :\n",
    "\n",
    "- en ordonnée le prix unitaire,\n",
    "- en abscisse le nombre de personnes concernées par le billet,\n",
    "- en colonne la classe (optionnellement)."
   ]
  },
  {
   "cell_type": "code",
   "execution_count": 5,
   "metadata": {},
   "outputs": [
    {
     "data": {
      "text/plain": [
       "<seaborn.axisgrid.FacetGrid at 0x7fd242b7cfa0>"
      ]
     },
     "execution_count": 5,
     "metadata": {},
     "output_type": "execute_result"
    },
    {
     "data": {
      "image/png": "[encoded data removed]",
      "text/plain": [
       "<Figure size 558.875x500 with 1 Axes>"
      ]
     },
     "metadata": {},
     "output_type": "display_data"
    }
   ],
   "source": [
    "sns.relplot(data=passengers, x=\"co-travelers\", y=\"unit fare\", hue=\"class\", palette=\"tab10\")"
   ]
  },
  {
   "cell_type": "markdown",
   "metadata": {},
   "source": [
    "**Q1.2** Générer un premier partitionnement avec l'algorithme des K-moyennes (K-means)."
   ]
  },
  {
   "cell_type": "markdown",
   "metadata": {},
   "source": [
    "**Note : méthode \"fit\" pour kmeans va trouver les coordonnées des centres et \"predict\" va calculer la distance (le y_pred)\n",
    "        donc on utilise \"fit-predict\" pour filtrer sur toutes les données et ca donne directement y_predict.**"
   ]
  },
  {
   "cell_type": "code",
   "execution_count": 6,
   "metadata": {
    "tags": []
   },
   "outputs": [],
   "source": [
    "from sklearn.cluster import KMeans"
   ]
  },
  {
   "cell_type": "code",
   "execution_count": 7,
   "metadata": {},
   "outputs": [
    {
     "data": {
      "text/plain": [
       "array([1, 1, 1, ..., 2, 2, 2], dtype=int32)"
      ]
     },
     "execution_count": 7,
     "metadata": {},
     "output_type": "execute_result"
    }
   ],
   "source": [
    "kmeans = KMeans(n_clusters=3, n_init=\"auto\")\n",
    "cols = [\"unit fare\", \"co-travelers\"]\n",
    "labels = kmeans.fit_predict(passengers[cols])\n",
    "labels"
   ]
  },
  {
   "cell_type": "markdown",
   "metadata": {},
   "source": [
    "**Q1.3** Visualiser la matrice de contingence, puis calculer l'indice de Rand (ajusté ou non) et le taux de bonne classification.  \n",
    "Pour le calcul du taux de bonne classification, vous pourrez vous baser sur la fonction d'optimisation [`linear_sum_assignment`](https://docs.scipy.org/doc/scipy/reference/generated/scipy.optimize.linear_sum_assignment.html) de SciPy.  \n",
    "Interpréter les résultats obtenus."
   ]
  },
  {
   "cell_type": "code",
   "execution_count": 8,
   "metadata": {
    "tags": []
   },
   "outputs": [],
   "source": [
    "from sklearn.metrics import rand_score, adjusted_rand_score\n",
    "from sklearn.metrics.cluster import contingency_matrix\n",
    "from scipy.optimize import linear_sum_assignment # équivalent de l'algorithme Hongrois"
   ]
  },
  {
   "cell_type": "code",
   "execution_count": 9,
   "metadata": {},
   "outputs": [
    {
     "data": {
      "image/png": "[encoded data removed]",
      "text/plain": [
       "<Figure size 800x600 with 2 Axes>"
      ]
     },
     "metadata": {},
     "output_type": "display_data"
    }
   ],
   "source": [
    "fig, ax = plt.subplots(figsize=(8, 6))\n",
    "sns.heatmap(contingency_matrix(passengers[\"class\"], labels), cmap=\"Blues\", yticklabels=[1, 2, 3], xticklabels=[\"C0\", \"C1\", \"C2\"], annot=True, fmt=\"d\", ax=ax)\n",
    "ax.set_ylabel(\"True label\")\n",
    "ax.set_xlabel(\"Predicted label\")\n",
    "plt.show()"
   ]
  },
  {
   "cell_type": "code",
   "execution_count": 10,
   "metadata": {},
   "outputs": [
    {
     "name": "stdout",
     "output_type": "stream",
     "text": [
      "Rand score: 0.9105016697708017\n",
      "Adjusted rand score: 0.8160347314218777\n",
      "Accuracy (best assignment): 0.9331814730447988\n"
     ]
    }
   ],
   "source": [
    "print(f\"Rand score: {rand_score(passengers['class'], labels)}\")\n",
    "print(f\"Adjusted rand score: {adjusted_rand_score(passengers['class'], labels)}\")\n",
    "m = contingency_matrix(passengers['class'], labels)\n",
    "accuracy = m[linear_sum_assignment(m, maximize=True)].sum()/m.sum()\n",
    "print(f\"Accuracy (best assignment): {accuracy}\")"
   ]
  },
  {
   "cell_type": "markdown",
   "metadata": {
    "execution": {
     "iopub.execute_input": "2022-03-08T15:46:15.668147Z",
     "iopub.status.busy": "2022-03-08T15:46:15.667522Z",
     "iopub.status.idle": "2022-03-08T15:46:15.675648Z",
     "shell.execute_reply": "2022-03-08T15:46:15.674683Z",
     "shell.execute_reply.started": "2022-03-08T15:46:15.668070Z"
    }
   },
   "source": [
    "**Q1.4** Afficher, sur le même type de graphique que celui utilisé pour visualiser les variations tarifaires, les groupes générés par K-means (par un code couleur par exemple)."
   ]
  },
  {
   "cell_type": "code",
   "execution_count": 12,
   "metadata": {},
   "outputs": [
    {
     "data": {
      "text/plain": [
       "<seaborn.axisgrid.FacetGrid at 0x7fd243067730>"
      ]
     },
     "execution_count": 12,
     "metadata": {},
     "output_type": "execute_result"
    },
    {
     "data": {
      "image/png": "[encoded data removed]",
      "text/plain": [
       "<Figure size 1558.88x500 with 3 Axes>"
      ]
     },
     "metadata": {},
     "output_type": "display_data"
    }
   ],
   "source": [
    "passengers[\"label\"] = labels\n",
    "sns.relplot(data=passengers, y=\"unit fare\", x=\"co-travelers\", col='class', hue=\"label\", palette=\"tab10\")"
   ]
  },
  {
   "cell_type": "markdown",
   "metadata": {},
   "source": [
    "**Q1.5** Calculer le score de silhouette de chaque échantillon par rapport aux partitions données par K-means.  \n",
    "Visualiser la distribution des valeurs des scores par partition.  \n",
    "Visualiser, sur le plan de projection des valeurs originales (co-travelers, unit fare), la valeur de la silhouette pour chaque point (par une couleur par exemple)."
   ]
  },
  {
   "cell_type": "code",
   "execution_count": 11,
   "metadata": {
    "tags": []
   },
   "outputs": [],
   "source": [
    "from sklearn.metrics import silhouette_samples"
   ]
  },
  {
   "cell_type": "markdown",
   "metadata": {},
   "source": [
    "**Q1.6** Reprendre la question précédente, mais en calculant cette fois le score de silhouette sur la base du résultat attendu (la classe réelle des passagers).  \n",
    "Que pouvez-vous en conclure ?"
   ]
  },
  {
   "cell_type": "markdown",
   "metadata": {},
   "source": [
    "# Prétraitements\n",
    "\n",
    "## Normalisation"
   ]
  },
  {
   "cell_type": "markdown",
   "metadata": {},
   "source": [
    "**Q2.1** Normaliser le prix unitaire et le nombre de passagers par ticket pour obtenir des valeurs entre 0 et 1.  "
   ]
  },
  {
   "cell_type": "code",
   "execution_count": 13,
   "metadata": {
    "tags": []
   },
   "outputs": [],
   "source": [
    "from sklearn.preprocessing import MinMaxScaler"
   ]
  },
  {
   "cell_type": "code",
   "execution_count": 14,
   "metadata": {},
   "outputs": [
    {
     "data": {
      "text/plain": [
       "<Axes: xlabel='label', ylabel='silhouette'>"
      ]
     },
     "execution_count": 14,
     "metadata": {},
     "output_type": "execute_result"
    },
    {
     "data": {
      "image/png": "[encoded data removed]",
      "text/plain": [
       "<Figure size 640x480 with 1 Axes>"
      ]
     },
     "metadata": {},
     "output_type": "display_data"
    }
   ],
   "source": [
    "passengers[\"silhouette\"] = silhouette_samples(passengers[cols], passengers[\"label\"])\n",
    "sns.boxplot(passengers, x=\"label\", y=\"silhouette\")"
   ]
  },
  {
   "cell_type": "markdown",
   "metadata": {},
   "source": [
    "**Q2.2** Cela a-t-il une influence sur la qualité du clustering ?"
   ]
  },
  {
   "cell_type": "code",
   "execution_count": null,
   "metadata": {},
   "outputs": [],
   "source": []
  },
  {
   "cell_type": "markdown",
   "metadata": {},
   "source": [
    "**Q2.3** Que se passe-t-il si on réalise le clustering uniquement sur la base du prix unitaire ?"
   ]
  },
  {
   "cell_type": "markdown",
   "metadata": {},
   "source": [
    "# Visualisation pour des données multidimensionnelles\n",
    "\n",
    "## Analyse en composantes principales\n",
    "\n",
    "Il peut être difficile de visualiser les données caractérisées par de nombreuses dimensions. Une technique classique consiste à projeter les données dans une espace à deux dimensions (deux axes), de manière à maximiser la dispersion des valeurs sur ces axes."
   ]
  },
  {
   "cell_type": "markdown",
   "metadata": {
    "execution": {
     "iopub.execute_input": "2022-03-14T22:42:33.305393Z",
     "iopub.status.busy": "2022-03-14T22:42:33.304970Z",
     "iopub.status.idle": "2022-03-14T22:42:33.311998Z",
     "shell.execute_reply": "2022-03-14T22:42:33.310621Z",
     "shell.execute_reply.started": "2022-03-14T22:42:33.305351Z"
    }
   },
   "source": [
    "**Q3.1** Après avoir appliqué K-means sur un ensemble de quatre attributs ou plus, visualiser la partition résultat dans le plan en utilisant une [analyse en composantes principales](https://scikit-learn.org/stable/modules/generated/sklearn.decomposition.PCA.html)."
   ]
  },
  {
   "cell_type": "code",
   "execution_count": null,
   "metadata": {
    "tags": []
   },
   "outputs": [],
   "source": [
    "from sklearn.decomposition import PCA"
   ]
  }
 ],
 "metadata": {
  "kernelspec": {
   "display_name": "Python 3 (ipykernel)",
   "language": "python",
   "name": "python3"
  },
  "language_info": {
   "codemirror_mode": {
    "name": "ipython",
    "version": 3
   },
   "file_extension": ".py",
   "mimetype": "text/x-python",
   "name": "python",
   "nbconvert_exporter": "python",
   "pygments_lexer": "ipython3",
   "version": "3.10.9"
  }
 },
 "nbformat": 4,
 "nbformat_minor": 4
}
